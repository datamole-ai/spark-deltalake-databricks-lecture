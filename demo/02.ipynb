{
 "cells": [
  {
   "cell_type": "code",
   "execution_count": 22,
   "id": "485527d4",
   "metadata": {},
   "outputs": [],
   "source": [
    "TABLE_NAME = \"data/02-table\""
   ]
  },
  {
   "cell_type": "code",
   "execution_count": 25,
   "id": "5e7e3955",
   "metadata": {},
   "outputs": [],
   "source": [
    "!rm -rf {TABLE_NAME}"
   ]
  },
  {
   "cell_type": "markdown",
   "id": "8f2923cf",
   "metadata": {},
   "source": [
    "# Create Table with `polars`"
   ]
  },
  {
   "cell_type": "markdown",
   "id": "4627f6c4",
   "metadata": {},
   "source": [
    "## First write - values from 0 to 9"
   ]
  },
  {
   "cell_type": "code",
   "execution_count": 24,
   "id": "19c7046a",
   "metadata": {},
   "outputs": [],
   "source": [
    "import polars as pl\n",
    "df = pl.DataFrame(\n",
    "    {\n",
    "        # \"x\": [0, 1, 2, 3, 4, 5, 6, 7, 8, 9],\n",
    "        \"s\": [\"a\", \"b\", \"c\"],\n",
    "    }\n",
    ")\n",
    "df.write_delta(TABLE_NAME)"
   ]
  },
  {
   "cell_type": "markdown",
   "id": "3559d148",
   "metadata": {},
   "source": [
    "## Make 9 more writes: values from 10 to 99, each write 10 values "
   ]
  },
  {
   "cell_type": "code",
   "execution_count": 4,
   "id": "193d8aac",
   "metadata": {},
   "outputs": [],
   "source": [
    "# i=1: x = 10, 11, ..., 19\n",
    "# i=2: x = 20, 21, ..., 29\n",
    "# ...\n",
    "# i=9: x = 90, 91, ..., 99\n",
    "for i in range(1, 10):\n",
    "    df_append = pl.DataFrame({\"x\": range(i * 10, i * 10 + 10)})\n",
    "    df_append.write_delta(TABLE_NAME, mode=\"append\")"
   ]
  },
  {
   "cell_type": "code",
   "execution_count": 9,
   "id": "a8eb52c7",
   "metadata": {},
   "outputs": [
    {
     "data": {
      "text/html": [
       "<div><style>\n",
       ".dataframe > thead > tr,\n",
       ".dataframe > tbody > tr {\n",
       "  text-align: right;\n",
       "  white-space: pre-wrap;\n",
       "}\n",
       "</style>\n",
       "<small>shape: (100, 1)</small><table border=\"1\" class=\"dataframe\"><thead><tr><th>x</th></tr><tr><td>i64</td></tr></thead><tbody><tr><td>0</td></tr><tr><td>1</td></tr><tr><td>2</td></tr><tr><td>3</td></tr><tr><td>4</td></tr><tr><td>&hellip;</td></tr><tr><td>95</td></tr><tr><td>96</td></tr><tr><td>97</td></tr><tr><td>98</td></tr><tr><td>99</td></tr></tbody></table></div>"
      ],
      "text/plain": [
       "shape: (100, 1)\n",
       "┌─────┐\n",
       "│ x   │\n",
       "│ --- │\n",
       "│ i64 │\n",
       "╞═════╡\n",
       "│ 0   │\n",
       "│ 1   │\n",
       "│ 2   │\n",
       "│ 3   │\n",
       "│ 4   │\n",
       "│ …   │\n",
       "│ 95  │\n",
       "│ 96  │\n",
       "│ 97  │\n",
       "│ 98  │\n",
       "│ 99  │\n",
       "└─────┘"
      ]
     },
     "execution_count": 9,
     "metadata": {},
     "output_type": "execute_result"
    }
   ],
   "source": [
    "df = pl.scan_delta(TABLE_NAME)\n",
    "df.sort('x').collect()"
   ]
  },
  {
   "cell_type": "markdown",
   "id": "40a126a7",
   "metadata": {},
   "source": [
    "## Read subset of the table"
   ]
  },
  {
   "cell_type": "code",
   "execution_count": 10,
   "id": "b491dd4b",
   "metadata": {},
   "outputs": [
    {
     "data": {
      "text/html": [
       "<div><style>\n",
       ".dataframe > thead > tr,\n",
       ".dataframe > tbody > tr {\n",
       "  text-align: right;\n",
       "  white-space: pre-wrap;\n",
       "}\n",
       "</style>\n",
       "<small>shape: (10, 1)</small><table border=\"1\" class=\"dataframe\"><thead><tr><th>x</th></tr><tr><td>i64</td></tr></thead><tbody><tr><td>50</td></tr><tr><td>51</td></tr><tr><td>52</td></tr><tr><td>53</td></tr><tr><td>54</td></tr><tr><td>55</td></tr><tr><td>56</td></tr><tr><td>57</td></tr><tr><td>58</td></tr><tr><td>59</td></tr></tbody></table></div>"
      ],
      "text/plain": [
       "shape: (10, 1)\n",
       "┌─────┐\n",
       "│ x   │\n",
       "│ --- │\n",
       "│ i64 │\n",
       "╞═════╡\n",
       "│ 50  │\n",
       "│ 51  │\n",
       "│ 52  │\n",
       "│ 53  │\n",
       "│ 54  │\n",
       "│ 55  │\n",
       "│ 56  │\n",
       "│ 57  │\n",
       "│ 58  │\n",
       "│ 59  │\n",
       "└─────┘"
      ]
     },
     "execution_count": 10,
     "metadata": {},
     "output_type": "execute_result"
    }
   ],
   "source": [
    "pl.scan_delta(TABLE_NAME).filter(\n",
    "    (pl.col(\"x\") >= 50)\n",
    "    & (pl.col(\"x\") < 60)\n",
    ").collect()"
   ]
  },
  {
   "cell_type": "markdown",
   "id": "f34a3b92",
   "metadata": {},
   "source": [
    "# Delete Rows using `deltalake`"
   ]
  },
  {
   "cell_type": "code",
   "execution_count": 11,
   "id": "b873c5eb",
   "metadata": {},
   "outputs": [
    {
     "data": {
      "text/plain": [
       "{'num_added_files': 0,\n",
       " 'num_removed_files': 2,\n",
       " 'num_deleted_rows': 20,\n",
       " 'num_copied_rows': 0,\n",
       " 'execution_time_ms': 34,\n",
       " 'scan_time_ms': 29,\n",
       " 'rewrite_time_ms': 5}"
      ]
     },
     "execution_count": 11,
     "metadata": {},
     "output_type": "execute_result"
    }
   ],
   "source": [
    "from deltalake import DeltaTable\n",
    "\n",
    "table = DeltaTable(TABLE_NAME)\n",
    "table.delete(\"x >= 50 AND x < 70\")"
   ]
  },
  {
   "cell_type": "markdown",
   "id": "9cf2c430",
   "metadata": {},
   "source": [
    "# Time Travel"
   ]
  },
  {
   "cell_type": "code",
   "execution_count": null,
   "id": "7e9ce106",
   "metadata": {},
   "outputs": [
    {
     "data": {
      "text/html": [
       "<div><style>\n",
       ".dataframe > thead > tr,\n",
       ".dataframe > tbody > tr {\n",
       "  text-align: right;\n",
       "  white-space: pre-wrap;\n",
       "}\n",
       "</style>\n",
       "<small>shape: (30, 1)</small><table border=\"1\" class=\"dataframe\"><thead><tr><th>x</th></tr><tr><td>i64</td></tr></thead><tbody><tr><td>20</td></tr><tr><td>21</td></tr><tr><td>22</td></tr><tr><td>23</td></tr><tr><td>24</td></tr><tr><td>&hellip;</td></tr><tr><td>5</td></tr><tr><td>6</td></tr><tr><td>7</td></tr><tr><td>8</td></tr><tr><td>9</td></tr></tbody></table></div>"
      ],
      "text/plain": [
       "shape: (30, 1)\n",
       "┌─────┐\n",
       "│ x   │\n",
       "│ --- │\n",
       "│ i64 │\n",
       "╞═════╡\n",
       "│ 20  │\n",
       "│ 21  │\n",
       "│ 22  │\n",
       "│ 23  │\n",
       "│ 24  │\n",
       "│ …   │\n",
       "│ 5   │\n",
       "│ 6   │\n",
       "│ 7   │\n",
       "│ 8   │\n",
       "│ 9   │\n",
       "└─────┘"
      ]
     },
     "execution_count": 15,
     "metadata": {},
     "output_type": "execute_result"
    }
   ],
   "source": [
    "df = pl.scan_delta(TABLE_NAME, version=2)\n",
    "df.collect()"
   ]
  },
  {
   "cell_type": "code",
   "execution_count": 17,
   "id": "3bb10912",
   "metadata": {},
   "outputs": [
    {
     "data": {
      "text/html": [
       "<div><style>\n",
       ".dataframe > thead > tr,\n",
       ".dataframe > tbody > tr {\n",
       "  text-align: right;\n",
       "  white-space: pre-wrap;\n",
       "}\n",
       "</style>\n",
       "<small>shape: (80, 1)</small><table border=\"1\" class=\"dataframe\"><thead><tr><th>x</th></tr><tr><td>i64</td></tr></thead><tbody><tr><td>90</td></tr><tr><td>91</td></tr><tr><td>92</td></tr><tr><td>93</td></tr><tr><td>94</td></tr><tr><td>&hellip;</td></tr><tr><td>5</td></tr><tr><td>6</td></tr><tr><td>7</td></tr><tr><td>8</td></tr><tr><td>9</td></tr></tbody></table></div>"
      ],
      "text/plain": [
       "shape: (80, 1)\n",
       "┌─────┐\n",
       "│ x   │\n",
       "│ --- │\n",
       "│ i64 │\n",
       "╞═════╡\n",
       "│ 90  │\n",
       "│ 91  │\n",
       "│ 92  │\n",
       "│ 93  │\n",
       "│ 94  │\n",
       "│ …   │\n",
       "│ 5   │\n",
       "│ 6   │\n",
       "│ 7   │\n",
       "│ 8   │\n",
       "│ 9   │\n",
       "└─────┘"
      ]
     },
     "execution_count": 17,
     "metadata": {},
     "output_type": "execute_result"
    }
   ],
   "source": [
    "from datetime import datetime, timedelta\n",
    "df = pl.scan_delta(TABLE_NAME, version=datetime.now() - timedelta(minutes=1))\n",
    "df.collect()"
   ]
  },
  {
   "cell_type": "markdown",
   "id": "f9641440",
   "metadata": {},
   "source": [
    "# Compacting"
   ]
  },
  {
   "cell_type": "code",
   "execution_count": null,
   "id": "7520397c",
   "metadata": {},
   "outputs": [
    {
     "data": {
      "text/plain": [
       "{'numFilesAdded': 1,\n",
       " 'numFilesRemoved': 8,\n",
       " 'filesAdded': '{\"avg\":713.0,\"max\":713,\"min\":713,\"totalFiles\":1,\"totalSize\":713}',\n",
       " 'filesRemoved': '{\"avg\":551.75,\"max\":552,\"min\":550,\"totalFiles\":8,\"totalSize\":4414}',\n",
       " 'partitionsOptimized': 1,\n",
       " 'numBatches': 8,\n",
       " 'totalConsideredFiles': 8,\n",
       " 'totalFilesSkipped': 0,\n",
       " 'preserveInsertionOrder': True}"
      ]
     },
     "execution_count": 18,
     "metadata": {},
     "output_type": "execute_result"
    }
   ],
   "source": [
    "from deltalake import DeltaTable\n",
    "\n",
    "\n",
    "table = DeltaTable(TABLE_NAME)\n",
    "table.optimize."
   ]
  },
  {
   "cell_type": "markdown",
   "id": "93606ef3",
   "metadata": {},
   "source": [
    "# Vacuum"
   ]
  },
  {
   "cell_type": "code",
   "execution_count": 19,
   "id": "8a5e63df",
   "metadata": {},
   "outputs": [
    {
     "data": {
      "text/plain": [
       "[]"
      ]
     },
     "execution_count": 19,
     "metadata": {},
     "output_type": "execute_result"
    }
   ],
   "source": [
    "table.vacuum()"
   ]
  }
 ],
 "metadata": {
  "kernelspec": {
   "display_name": ".venv",
   "language": "python",
   "name": "python3"
  },
  "language_info": {
   "codemirror_mode": {
    "name": "ipython",
    "version": 3
   },
   "file_extension": ".py",
   "mimetype": "text/x-python",
   "name": "python",
   "nbconvert_exporter": "python",
   "pygments_lexer": "ipython3",
   "version": "3.12.9"
  }
 },
 "nbformat": 4,
 "nbformat_minor": 5
}
